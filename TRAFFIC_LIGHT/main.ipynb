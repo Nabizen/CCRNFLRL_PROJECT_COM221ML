{
 "cells": [
  {
   "cell_type": "code",
   "execution_count": 7,
   "id": "5f1a2a16",
   "metadata": {},
   "outputs": [
    {
     "name": "stderr",
     "output_type": "stream",
     "text": [
      "Gym has been unmaintained since 2022 and does not support NumPy 2.0 amongst other critical functionality.\n",
      "Please upgrade to Gymnasium, the maintained drop-in replacement of Gym, or contact the authors of your software and request that they upgrade.\n",
      "Users of this version of Gym should be able to simply replace 'import gym' with 'import gymnasium as gym' in the vast majority of cases.\n",
      "See the migration guide at https://gymnasium.farama.org/introduction/migration_guide/ for additional information.\n"
     ]
    }
   ],
   "source": [
    "import gym\n",
    "from gym import spaces\n",
    "import numpy as np\n",
    "\n",
    "class TrafficEnv(gym.Env):\n",
    "    \"\"\"\n",
    "    Custom Environment for Adaptive Traffic Light Control using Q-Learning\n",
    "    \"\"\"\n",
    "\n",
    "    def __init__(self, max_cars=10):\n",
    "        super(TrafficEnv, self).__init__()\n",
    "\n",
    "        # State: number of cars waiting in each direction [N, S, E, W]\n",
    "        self.observation_space = spaces.Box(low=0, high=max_cars, shape=(4,), dtype=np.int32)\n",
    "\n",
    "        # Actions: 0 = NS Green (EW Red), 1 = EW Green (NS Red)\n",
    "        self.action_space = spaces.Discrete(2)\n",
    "\n",
    "        # Environment parameters\n",
    "        self.max_cars = max_cars\n",
    "        self.state = np.zeros(4, dtype=int)\n",
    "        self.step_count = 0\n",
    "        self.max_steps = 200\n",
    "\n",
    "    def reset(self):\n",
    "        self.state = np.random.randint(0, 3, size=4)\n",
    "        self.step_count = 0\n",
    "        return self.state\n",
    "\n",
    "    def step(self, action):\n",
    "        \"\"\"\n",
    "        Execute one time step\n",
    "        \"\"\"\n",
    "        self.step_count += 1\n",
    "        cars = self.state.copy()\n",
    "\n",
    "        # Cars pass depending on green light\n",
    "        if action == 0:\n",
    "            # NS Green: cars in North & South decrease\n",
    "            cars[0] = max(0, cars[0] - np.random.randint(1, 3))\n",
    "            cars[1] = max(0, cars[1] - np.random.randint(1, 3))\n",
    "        else:\n",
    "            # EW Green\n",
    "            cars[2] = max(0, cars[2] - np.random.randint(1, 3))\n",
    "            cars[3] = max(0, cars[3] - np.random.randint(1, 3))\n",
    "\n",
    "        # New cars arrive randomly\n",
    "        new_arrivals = np.random.randint(0, 3, size=4)\n",
    "        cars = np.minimum(self.max_cars, cars + new_arrivals)\n",
    "\n",
    "        self.state = cars\n",
    "\n",
    "        # Reward: negative total waiting cars\n",
    "        reward = -np.sum(self.state)\n",
    "\n",
    "        # Done when max steps reached\n",
    "        done = self.step_count >= self.max_steps\n",
    "\n",
    "        info = {}\n",
    "\n",
    "        return self.state, reward, done, info\n",
    "\n",
    "    def render(self):\n",
    "        print(f\"Step: {self.step_count} | State (N,S,E,W): {self.state}\")\n"
   ]
  },
  {
   "cell_type": "code",
   "execution_count": 8,
   "id": "2942bc68",
   "metadata": {},
   "outputs": [
    {
     "name": "stdout",
     "output_type": "stream",
     "text": [
      "Training finished ✅\n"
     ]
    }
   ],
   "source": [
    "import numpy as np\n",
    "import random\n",
    "\n",
    "env = TrafficEnv()\n",
    "state_size = tuple(env.observation_space.shape)[0]\n",
    "action_size = env.action_space.n\n",
    "\n",
    "# Q-table\n",
    "Q = np.zeros((env.max_cars+1, env.max_cars+1, env.max_cars+1, env.max_cars+1, action_size))\n",
    "\n",
    "# Parameters\n",
    "episodes = 1000\n",
    "alpha = 0.1\n",
    "gamma = 0.9\n",
    "epsilon = 1.0\n",
    "epsilon_decay = 0.995\n",
    "epsilon_min = 0.01\n",
    "\n",
    "def get_q_state(state):\n",
    "    return tuple(state)\n",
    "\n",
    "for ep in range(episodes):\n",
    "    state = env.reset()\n",
    "    done = False\n",
    "\n",
    "    while not done:\n",
    "        if random.uniform(0, 1) < epsilon:\n",
    "            action = env.action_space.sample()\n",
    "        else:\n",
    "            action = np.argmax(Q[get_q_state(state)])\n",
    "\n",
    "        next_state, reward, done, _ = env.step(action)\n",
    "\n",
    "        # Q-learning update\n",
    "        Q[get_q_state(state)][action] += alpha * (\n",
    "            reward + gamma * np.max(Q[get_q_state(next_state)]) - Q[get_q_state(state)][action]\n",
    "        )\n",
    "\n",
    "        state = next_state\n",
    "\n",
    "    epsilon = max(epsilon_min, epsilon * epsilon_decay)\n",
    "\n",
    "print(\"Training finished ✅\")\n"
   ]
  },
  {
   "cell_type": "code",
   "execution_count": 10,
   "id": "9ea8522b",
   "metadata": {},
   "outputs": [
    {
     "data": {
      "image/png": "[encoded data removed]",
      "text/plain": [
       "<Figure size 500x500 with 1 Axes>"
      ]
     },
     "metadata": {},
     "output_type": "display_data"
    }
   ],
   "source": [
    "import matplotlib.pyplot as plt\n",
    "from IPython.display import clear_output\n",
    "import time\n",
    "\n",
    "state = env.reset()\n",
    "done = False\n",
    "\n",
    "for step in range(50):\n",
    "    clear_output(wait=True)\n",
    "    action = np.argmax(Q[get_q_state(state)])\n",
    "    next_state, reward, done, _ = env.step(action)\n",
    "\n",
    "    plt.figure(figsize=(5, 5))\n",
    "    plt.bar(['North', 'South', 'East', 'West'], env.state, color='orange')\n",
    "    plt.title(f\"Step {step+1} | Action: {'NS Green' if action == 0 else 'EW Green'} | Reward: {reward:.2f}\")\n",
    "    plt.ylim(0, env.max_cars)\n",
    "    plt.ylabel(\"Number of Cars Waiting\")\n",
    "    plt.show()\n",
    "\n",
    "    time.sleep(0.5)\n",
    "    state = next_state\n",
    "\n",
    "plt.close()\n"
   ]
  }
 ],
 "metadata": {
  "kernelspec": {
   "display_name": "rl_finals",
   "language": "python",
   "name": "python3"
  },
  "language_info": {
   "codemirror_mode": {
    "name": "ipython",
    "version": 3
   },
   "file_extension": ".py",
   "mimetype": "text/x-python",
   "name": "python",
   "nbconvert_exporter": "python",
   "pygments_lexer": "ipython3",
   "version": "3.10.18"
  }
 },
 "nbformat": 4,
 "nbformat_minor": 5
}
