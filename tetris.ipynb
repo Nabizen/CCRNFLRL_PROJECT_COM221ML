{
 "cells": [
  {
   "cell_type": "code",
   "execution_count": 2,
   "id": "5599f570",
   "metadata": {},
   "outputs": [],
   "source": [
    "import gymnasium as gym\n",
    "import time\n",
    "import ale_py\n",
    "\n",
    "gym.register_envs(ale_py)"
   ]
  },
  {
   "cell_type": "code",
   "execution_count": 3,
   "id": "5b79b8c8",
   "metadata": {},
   "outputs": [],
   "source": [
    "env = gym.make('ALE/Tetris-v5', render_mode=\"human\")"
   ]
  },
  {
   "cell_type": "markdown",
   "id": "1f38bc87",
   "metadata": {},
   "source": [
    "# Agent with random actions"
   ]
  },
  {
   "cell_type": "code",
   "execution_count": null,
   "id": "0f909ab9",
   "metadata": {},
   "outputs": [],
   "source": [
    "# # Reset environment to start a new episode\n",
    "# observation, info = env.reset()\n",
    "# # observation: what the agent can \"see\" - cart position, velocity, pole angle, etc.\n",
    "# # info: extra debugging information (usually not needed for basic learning)\n",
    "\n",
    "# print(f\"Starting observation: {observation}\")\n",
    "# # Example output: [ 0.01234567 -0.00987654  0.02345678  0.01456789]\n",
    "# # [cart_position, cart_velocity, pole_angle, pole_angular_velocity]\n",
    "\n",
    "# episode_over = False\n",
    "# total_reward = 0\n",
    "\n",
    "# while not episode_over:\n",
    "#     # Choose an action: 0 = push cart left, 1 = push cart right\n",
    "#     action = env.action_space.sample()  # Random action for now - real agents will be smarter!\n",
    "\n",
    "#     # Take the action and see what happens\n",
    "#     observation, reward, terminated, truncated, info = env.step(action)\n",
    "\n",
    "#     # reward: +1 for each step the pole stays upright\n",
    "#     # terminated: True if pole falls too far (agent failed)\n",
    "#     # truncated: True if we hit the time limit (500 steps)\n",
    "\n",
    "#     total_reward += reward\n",
    "#     episode_over = terminated or truncated\n",
    "    \n",
    "\n",
    "# print(f\"Episode finished! Total reward: {total_reward}\")\n",
    "# env.close()"
   ]
  },
  {
   "cell_type": "code",
   "execution_count": null,
   "id": "26f16fdf",
   "metadata": {},
   "outputs": [],
   "source": [
    "observation, info = env.reset(seed=42)\n",
    "\n",
    "print(f\"Starting observation: {observation}\")\n",
    "\n",
    "for _ in range(500):  # Run up to 500 timesteps\n",
    "    action = env.action_space.sample()\n",
    "    observation, reward, terminated, truncated, info = env.step(action)\n",
    "\n",
    "    if terminated or truncated:\n",
    "        observation, info = env.reset()\n",
    "\n",
    "    time.sleep(0.02)  # Optional: slows down rendering so it's easier to follow\n",
    "\n",
    "env.close()"
   ]
  }
 ],
 "metadata": {
  "kernelspec": {
   "display_name": "ml-tensor",
   "language": "python",
   "name": "python3"
  },
  "language_info": {
   "codemirror_mode": {
    "name": "ipython",
    "version": 3
   },
   "file_extension": ".py",
   "mimetype": "text/x-python",
   "name": "python",
   "nbconvert_exporter": "python",
   "pygments_lexer": "ipython3",
   "version": "3.10.16"
  }
 },
 "nbformat": 4,
 "nbformat_minor": 5
}
